{
 "cells": [
  {
   "attachments": {},
   "cell_type": "markdown",
   "metadata": {},
   "source": [
    "FINAL MACHINE LEARNING PIPELINE\n",
    "\n",
    "\n",
    "This pipeline features:\n",
    "- open source classes\n",
    "- in house package class\n",
    "- only uses selected feature\n",
    "- we score new data"
   ]
  },
  {
   "attachments": {},
   "cell_type": "markdown",
   "metadata": {},
   "source": [
    "# Reproducibility: Setting the seed\n",
    "\n",
    "With the aim to ensure reproducibility between runs of the same notebook, but also between the research and production environment, for each step that includes some element of randomness, it is extremely important that we **set the seed**."
   ]
  },
  {
   "cell_type": "code",
   "execution_count": 1,
   "metadata": {},
   "outputs": [],
   "source": [
    "#data manipulation library\n",
    "import pandas as pd\n",
    "import numpy as np \n",
    "import matplotlib.pyplot as plt \n",
    "\n",
    "#for saving the pipeline\n",
    "import joblib\n",
    "\n",
    "#packages from scikit learn\n",
    "from sklearn.linear_model import LassoCV\n",
    "from sklearn.metrics import mean_squared_error, r2_score\n",
    "from sklearn.model_selection import train_test_split\n",
    "from sklearn.pipeline import Pipeline\n",
    "from sklearn.preprocessing import MinMaxScaler, Binarizer\n",
    "\n",
    "\n",
    "#packages from feature-engine\n",
    "from feature_engine.imputation import (\n",
    "    AddMissingIndicator,\n",
    "    MeanMedianImputer,\n",
    "    CategoricalImputer,\n",
    ")\n",
    "\n",
    "from feature_engine.encoding import (\n",
    "    RareLabelEncoder,\n",
    "    OrdinalEncoder,\n",
    ")\n",
    "\n",
    "from feature_engine.transformation import (\n",
    "    YeoJohnsonTransformer,\n",
    ")\n",
    "\n",
    "from feature_engine.selection import DropFeatures\n",
    "from feature_engine.wrappers import SklearnTransformerWrapper\n",
    "\n",
    "\n",
    "import preprocessors as pp"
   ]
  },
  {
   "cell_type": "code",
   "execution_count": 2,
   "metadata": {},
   "outputs": [
    {
     "name": "stdout",
     "output_type": "stream",
     "text": [
      "(11914, 16)\n"
     ]
    },
    {
     "data": {
      "text/html": [
       "<div>\n",
       "<style scoped>\n",
       "    .dataframe tbody tr th:only-of-type {\n",
       "        vertical-align: middle;\n",
       "    }\n",
       "\n",
       "    .dataframe tbody tr th {\n",
       "        vertical-align: top;\n",
       "    }\n",
       "\n",
       "    .dataframe thead th {\n",
       "        text-align: right;\n",
       "    }\n",
       "</style>\n",
       "<table border=\"1\" class=\"dataframe\">\n",
       "  <thead>\n",
       "    <tr style=\"text-align: right;\">\n",
       "      <th></th>\n",
       "      <th>Make</th>\n",
       "      <th>Model</th>\n",
       "      <th>Year</th>\n",
       "      <th>Engine Fuel Type</th>\n",
       "      <th>Engine HP</th>\n",
       "      <th>Engine Cylinders</th>\n",
       "      <th>Transmission Type</th>\n",
       "      <th>Driven_Wheels</th>\n",
       "      <th>Number of Doors</th>\n",
       "      <th>Market Category</th>\n",
       "      <th>Vehicle Size</th>\n",
       "      <th>Vehicle Style</th>\n",
       "      <th>highway MPG</th>\n",
       "      <th>city mpg</th>\n",
       "      <th>Popularity</th>\n",
       "      <th>MSRP</th>\n",
       "    </tr>\n",
       "  </thead>\n",
       "  <tbody>\n",
       "    <tr>\n",
       "      <th>0</th>\n",
       "      <td>BMW</td>\n",
       "      <td>1 Series M</td>\n",
       "      <td>2011</td>\n",
       "      <td>premium unleaded (required)</td>\n",
       "      <td>335.0</td>\n",
       "      <td>6.0</td>\n",
       "      <td>MANUAL</td>\n",
       "      <td>rear wheel drive</td>\n",
       "      <td>2.0</td>\n",
       "      <td>Factory Tuner,Luxury,High-Performance</td>\n",
       "      <td>Compact</td>\n",
       "      <td>Coupe</td>\n",
       "      <td>26</td>\n",
       "      <td>19</td>\n",
       "      <td>3916</td>\n",
       "      <td>46135</td>\n",
       "    </tr>\n",
       "    <tr>\n",
       "      <th>1</th>\n",
       "      <td>BMW</td>\n",
       "      <td>1 Series</td>\n",
       "      <td>2011</td>\n",
       "      <td>premium unleaded (required)</td>\n",
       "      <td>300.0</td>\n",
       "      <td>6.0</td>\n",
       "      <td>MANUAL</td>\n",
       "      <td>rear wheel drive</td>\n",
       "      <td>2.0</td>\n",
       "      <td>Luxury,Performance</td>\n",
       "      <td>Compact</td>\n",
       "      <td>Convertible</td>\n",
       "      <td>28</td>\n",
       "      <td>19</td>\n",
       "      <td>3916</td>\n",
       "      <td>40650</td>\n",
       "    </tr>\n",
       "    <tr>\n",
       "      <th>2</th>\n",
       "      <td>BMW</td>\n",
       "      <td>1 Series</td>\n",
       "      <td>2011</td>\n",
       "      <td>premium unleaded (required)</td>\n",
       "      <td>300.0</td>\n",
       "      <td>6.0</td>\n",
       "      <td>MANUAL</td>\n",
       "      <td>rear wheel drive</td>\n",
       "      <td>2.0</td>\n",
       "      <td>Luxury,High-Performance</td>\n",
       "      <td>Compact</td>\n",
       "      <td>Coupe</td>\n",
       "      <td>28</td>\n",
       "      <td>20</td>\n",
       "      <td>3916</td>\n",
       "      <td>36350</td>\n",
       "    </tr>\n",
       "    <tr>\n",
       "      <th>3</th>\n",
       "      <td>BMW</td>\n",
       "      <td>1 Series</td>\n",
       "      <td>2011</td>\n",
       "      <td>premium unleaded (required)</td>\n",
       "      <td>230.0</td>\n",
       "      <td>6.0</td>\n",
       "      <td>MANUAL</td>\n",
       "      <td>rear wheel drive</td>\n",
       "      <td>2.0</td>\n",
       "      <td>Luxury,Performance</td>\n",
       "      <td>Compact</td>\n",
       "      <td>Coupe</td>\n",
       "      <td>28</td>\n",
       "      <td>18</td>\n",
       "      <td>3916</td>\n",
       "      <td>29450</td>\n",
       "    </tr>\n",
       "    <tr>\n",
       "      <th>4</th>\n",
       "      <td>BMW</td>\n",
       "      <td>1 Series</td>\n",
       "      <td>2011</td>\n",
       "      <td>premium unleaded (required)</td>\n",
       "      <td>230.0</td>\n",
       "      <td>6.0</td>\n",
       "      <td>MANUAL</td>\n",
       "      <td>rear wheel drive</td>\n",
       "      <td>2.0</td>\n",
       "      <td>Luxury</td>\n",
       "      <td>Compact</td>\n",
       "      <td>Convertible</td>\n",
       "      <td>28</td>\n",
       "      <td>18</td>\n",
       "      <td>3916</td>\n",
       "      <td>34500</td>\n",
       "    </tr>\n",
       "  </tbody>\n",
       "</table>\n",
       "</div>"
      ],
      "text/plain": [
       "  Make       Model  Year             Engine Fuel Type  Engine HP  \\\n",
       "0  BMW  1 Series M  2011  premium unleaded (required)      335.0   \n",
       "1  BMW    1 Series  2011  premium unleaded (required)      300.0   \n",
       "2  BMW    1 Series  2011  premium unleaded (required)      300.0   \n",
       "3  BMW    1 Series  2011  premium unleaded (required)      230.0   \n",
       "4  BMW    1 Series  2011  premium unleaded (required)      230.0   \n",
       "\n",
       "   Engine Cylinders Transmission Type     Driven_Wheels  Number of Doors  \\\n",
       "0               6.0            MANUAL  rear wheel drive              2.0   \n",
       "1               6.0            MANUAL  rear wheel drive              2.0   \n",
       "2               6.0            MANUAL  rear wheel drive              2.0   \n",
       "3               6.0            MANUAL  rear wheel drive              2.0   \n",
       "4               6.0            MANUAL  rear wheel drive              2.0   \n",
       "\n",
       "                         Market Category Vehicle Size Vehicle Style  \\\n",
       "0  Factory Tuner,Luxury,High-Performance      Compact         Coupe   \n",
       "1                     Luxury,Performance      Compact   Convertible   \n",
       "2                Luxury,High-Performance      Compact         Coupe   \n",
       "3                     Luxury,Performance      Compact         Coupe   \n",
       "4                                 Luxury      Compact   Convertible   \n",
       "\n",
       "   highway MPG  city mpg  Popularity   MSRP  \n",
       "0           26        19        3916  46135  \n",
       "1           28        19        3916  40650  \n",
       "2           28        20        3916  36350  \n",
       "3           28        18        3916  29450  \n",
       "4           28        18        3916  34500  "
      ]
     },
     "execution_count": 2,
     "metadata": {},
     "output_type": "execute_result"
    }
   ],
   "source": [
    "#loading dataset\n",
    "df = pd.read_csv('data.csv')\n",
    "\n",
    "#retrieve number of rows and colums\n",
    "print(df.shape)\n",
    "\n",
    "#visualizing sample shot of our data\n",
    "df.head()"
   ]
  },
  {
   "cell_type": "code",
   "execution_count": 3,
   "metadata": {},
   "outputs": [],
   "source": [
    "#remove the spaces and format the case of each column titles\n",
    "df.columns = df.columns.str.lower().str.replace(' ', '_')"
   ]
  },
  {
   "cell_type": "code",
   "execution_count": 4,
   "metadata": {},
   "outputs": [],
   "source": [
    "#Let's create our cat vars which will enable us to cast some features to categorical type subsequently\n",
    "cat_var = [var for var in df.columns if df[var].dtype == 'object']"
   ]
  },
  {
   "cell_type": "code",
   "execution_count": 5,
   "metadata": {},
   "outputs": [],
   "source": [
    "#remove the spaces and format the case of each column values\n",
    "\n",
    "for col in cat_var:\n",
    "    try:\n",
    "        if df[col].dtype == 'object':\n",
    "            df[col] = df[col].str.lower().str.replace(' ', '_')\n",
    "        else:\n",
    "            df[col] = df[col]\n",
    "    except TypeError:\n",
    "        print('wrong data type')"
   ]
  },
  {
   "cell_type": "code",
   "execution_count": 6,
   "metadata": {},
   "outputs": [],
   "source": [
    "#replace na or nan with 0 in the number_of_doors variable\n",
    "df['number_of_doors'] = df['number_of_doors'].fillna(0)\n",
    "\n",
    "\n",
    "#number_of_doors is in actual sense supposed to be a cat var, so we first round the decimal to whole number.\n",
    "#also we round the values of engine_cylinder to whole number\n",
    "for i in df.index:\n",
    "    df['number_of_doors'] = round(df['number_of_doors'][i])\n",
    "    df['engine_cylinders'] = round(df['engine_cylinders'][i])\n",
    "\n",
    "#update the data type for number of doors, because in reality it should be a categorical variable and not numerical\n",
    "df['number_of_doors'] = df['number_of_doors'].astype('object')\n",
    "df['engine_cylinders'] = df['engine_cylinders'].astype('object')\n",
    "\n",
    "#add the new categorical variable to the list cat_var\n",
    "cat_var = cat_var + ['number_of_doors', 'engine_cylinders']"
   ]
  },
  {
   "attachments": {},
   "cell_type": "markdown",
   "metadata": {},
   "source": [
    "# seperate data into train and test"
   ]
  },
  {
   "cell_type": "code",
   "execution_count": 7,
   "metadata": {},
   "outputs": [
    {
     "data": {
      "text/plain": [
       "((8339, 15), (3575, 15))"
      ]
     },
     "execution_count": 7,
     "metadata": {},
     "output_type": "execute_result"
    }
   ],
   "source": [
    "x_train, x_test, y_train, y_test = train_test_split(df.drop('msrp', axis= 1), #predictive features\n",
    "                                                    df['msrp'], # target\n",
    "                                                    test_size=.3,\n",
    "                                                    random_state= 1,\n",
    "                                                    )\n",
    "\n",
    "x_train.shape, x_test.shape"
   ]
  },
  {
   "attachments": {},
   "cell_type": "markdown",
   "metadata": {},
   "source": [
    "# Target"
   ]
  },
  {
   "cell_type": "code",
   "execution_count": 8,
   "metadata": {},
   "outputs": [],
   "source": [
    "y_train = np.log1p(y_train)\n",
    "y_test = np.log1p(y_test)"
   ]
  },
  {
   "attachments": {},
   "cell_type": "markdown",
   "metadata": {},
   "source": [
    "# Configuration"
   ]
  },
  {
   "cell_type": "code",
   "execution_count": 9,
   "metadata": {},
   "outputs": [],
   "source": [
    "CATEGORICAL_VARS_WITH_NA_MISSING = 'market_category'\n",
    "\n",
    "CATEGORICAL_VARS_WITH_NA_FREQUENT = 'engine_fuel_type'\n",
    "\n",
    "NUMERICAL_VARS_WITH_NA = 'engine_hp'\n",
    "\n",
    "TEMPORAL_VAR =  'year'\n",
    "\n",
    "DROPPED_VARS = 'year'\n",
    "\n",
    "NUMERICAL_YEO_VARS = ['highway_mpg', 'popularity','engine_hp']\n",
    "\n",
    "CATEGORICAL_VARS =['make',\n",
    " 'engine_fuel_type',\n",
    " 'transmission_type',\n",
    " 'driven_wheels',\n",
    " 'market_category',\n",
    " 'vehicle_size',\n",
    " 'vehicle_style',\n",
    " ]\n",
    "\n",
    "#selected variables\n",
    "FEATURES =[\n",
    "    'make', \n",
    "    'engine_fuel_type', \n",
    "    'engine_hp', \n",
    "    'transmission_type',\n",
    "    'driven_wheels', \n",
    "    'market_category', \n",
    "    'vehicle_size', \n",
    "    'vehicle_style',\n",
    "    'highway_mpg', \n",
    "    'popularity',  \n",
    "    'year' # this is important for computing the car age\n",
    "]"
   ]
  },
  {
   "cell_type": "code",
   "execution_count": 10,
   "metadata": {},
   "outputs": [
    {
     "data": {
      "text/plain": [
       "((8339, 11), (3575, 11))"
      ]
     },
     "execution_count": 10,
     "metadata": {},
     "output_type": "execute_result"
    }
   ],
   "source": [
    "x_train = x_train[FEATURES]\n",
    "x_test = x_test[FEATURES]\n",
    "\n",
    "x_train.shape, x_test.shape"
   ]
  },
  {
   "attachments": {},
   "cell_type": "markdown",
   "metadata": {},
   "source": [
    "# PIPELINE"
   ]
  },
  {
   "cell_type": "code",
   "execution_count": 11,
   "metadata": {},
   "outputs": [],
   "source": [
    "msrp_pipeline = Pipeline([\n",
    "    # ==== IMPUTATION ====\n",
    "\n",
    "    ('missing_imputation', CategoricalImputer(imputation_method='missing', variables= CATEGORICAL_VARS_WITH_NA_MISSING)),\n",
    "\n",
    "    ('frequent_imputation', CategoricalImputer(imputation_method='frequent', variables=CATEGORICAL_VARS_WITH_NA_FREQUENT)),\n",
    "    \n",
    "    ('missing_indicator', AddMissingIndicator(variables=NUMERICAL_VARS_WITH_NA)),\n",
    "\n",
    "    ('median_imputation', MeanMedianImputer(imputation_method='median', variables=NUMERICAL_VARS_WITH_NA)),\n",
    "\n",
    "    # ==== TEMPORAL VARIABLE - CREATING NEW CAR AGE VAR ====\n",
    "    ('elapsed_time', pp.CarAge(variables=TEMPORAL_VAR)),\n",
    "\n",
    "    ('drop_features', DropFeatures(features_to_drop=DROPPED_VARS)),\n",
    "\n",
    "    # ==== VARIABLE TRANSORMATION\n",
    "    ('yeojohnson', YeoJohnsonTransformer(variables=NUMERICAL_YEO_VARS)),\n",
    "\n",
    "    # === CATEGORIAL ENCODING ====\n",
    "    ('rare_label_encoder', RareLabelEncoder(tol=0.01, n_categories=1, variables=CATEGORICAL_VARS)),\n",
    "\n",
    "    #encoding the categorical and discrete variables using the target mean\n",
    "    ('categorical_encoder', OrdinalEncoder(encoding_method='ordered', variables=CATEGORICAL_VARS)),\n",
    "\n",
    "    #scaling our feature parameters\n",
    "    ('scalar', MinMaxScaler()),\n",
    "\n",
    "    #final estimator\n",
    "    ('Lasso', LassoCV(random_state= 1))\n",
    "])"
   ]
  },
  {
   "cell_type": "code",
   "execution_count": 12,
   "metadata": {},
   "outputs": [
    {
     "data": {
      "text/plain": [
       "Pipeline(steps=[('missing_imputation',\n",
       "                 CategoricalImputer(variables='market_category')),\n",
       "                ('frequent_imputation',\n",
       "                 CategoricalImputer(imputation_method='frequent',\n",
       "                                    variables='engine_fuel_type')),\n",
       "                ('missing_indicator',\n",
       "                 AddMissingIndicator(variables='engine_hp')),\n",
       "                ('median_imputation', MeanMedianImputer(variables='engine_hp')),\n",
       "                ('elapsed_time', CarAge(variables=...\n",
       "                 RareLabelEncoder(n_categories=1, tol=0.01,\n",
       "                                  variables=['make', 'engine_fuel_type',\n",
       "                                             'transmission_type',\n",
       "                                             'driven_wheels', 'market_category',\n",
       "                                             'vehicle_size',\n",
       "                                             'vehicle_style'])),\n",
       "                ('categorical_encoder',\n",
       "                 OrdinalEncoder(variables=['make', 'engine_fuel_type',\n",
       "                                           'transmission_type', 'driven_wheels',\n",
       "                                           'market_category', 'vehicle_size',\n",
       "                                           'vehicle_style'])),\n",
       "                ('scalar', MinMaxScaler()),\n",
       "                ('Lasso', LassoCV(random_state=1))])"
      ]
     },
     "execution_count": 12,
     "metadata": {},
     "output_type": "execute_result"
    }
   ],
   "source": [
    "#train the pipeline\n",
    "msrp_pipeline.fit(x_train, y_train)"
   ]
  },
  {
   "cell_type": "code",
   "execution_count": 13,
   "metadata": {},
   "outputs": [
    {
     "name": "stdout",
     "output_type": "stream",
     "text": [
      "train mse: 2193223760\n",
      "train rmse: 46831\n",
      "train r2: 0.39517667462803174\n",
      "\n",
      "test mse: 2169558939\n",
      "test rmse: 46578\n",
      "test r2: 0.3942290158514212\n",
      "\n",
      "Average house price:  29905\n"
     ]
    }
   ],
   "source": [
    "# evaluate the model:\n",
    "# ====================\n",
    "\n",
    "# make predictions for train set\n",
    "pred = msrp_pipeline.predict(x_train)\n",
    "\n",
    "# determine mse, rmse and r2\n",
    "print('train mse: {}'.format(int(\n",
    "    mean_squared_error(np.exp(y_train), np.exp(pred)))))\n",
    "print('train rmse: {}'.format(int(\n",
    "    mean_squared_error(np.exp(y_train), np.exp(pred), squared=False))))\n",
    "print('train r2: {}'.format(\n",
    "    r2_score(np.exp(y_train), np.exp(pred))))\n",
    "print()\n",
    "\n",
    "# make predictions for test set\n",
    "pred = msrp_pipeline.predict(x_test)\n",
    "\n",
    "# determine mse, rmse and r2\n",
    "print('test mse: {}'.format(int(\n",
    "    mean_squared_error(np.exp(y_test), np.exp(pred)))))\n",
    "print('test rmse: {}'.format(int(\n",
    "    mean_squared_error(np.exp(y_test), np.exp(pred), squared=False))))\n",
    "print('test r2: {}'.format(\n",
    "    r2_score(np.exp(y_test), np.exp(pred))))\n",
    "print()\n",
    "\n",
    "print('Average house price: ', int(np.exp(y_train).median()))"
   ]
  },
  {
   "cell_type": "code",
   "execution_count": null,
   "metadata": {},
   "outputs": [],
   "source": []
  }
 ],
 "metadata": {
  "kernelspec": {
   "display_name": "base",
   "language": "python",
   "name": "python3"
  },
  "language_info": {
   "codemirror_mode": {
    "name": "ipython",
    "version": 3
   },
   "file_extension": ".py",
   "mimetype": "text/x-python",
   "name": "python",
   "nbconvert_exporter": "python",
   "pygments_lexer": "ipython3",
   "version": "3.9.12"
  },
  "orig_nbformat": 4
 },
 "nbformat": 4,
 "nbformat_minor": 2
}
