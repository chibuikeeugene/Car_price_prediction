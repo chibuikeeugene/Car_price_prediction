{
 "cells": [
  {
   "attachments": {},
   "cell_type": "markdown",
   "metadata": {},
   "source": [
    "FEATURE ENGINEERING USING OPEN SOURCE LIBRARIES"
   ]
  },
  {
   "cell_type": "code",
   "execution_count": 1,
   "metadata": {},
   "outputs": [],
   "source": [
    "#data manipulation libraries\n",
    "import pandas as pd\n",
    "import numpy as np\n",
    "import matplotlib.pyplot as plt\n",
    "\n",
    "#for saving our pipeline\n",
    "import joblib\n",
    "\n",
    "#for data preparation and modeling\n",
    "from sklearn.model_selection import train_test_split\n",
    "from sklearn.preprocessing import MinMaxScaler, Binarizer\n",
    "\n",
    "#from feature-engine\n",
    "from feature_engine.imputation import (\n",
    "    AddMissingIndicator,\n",
    "    MeanMedianImputer,\n",
    "    CategoricalImputer,\n",
    ")\n",
    "\n",
    "from feature_engine.encoding import (\n",
    "    RareLabelEncoder,\n",
    "    OrdinalEncoder,\n",
    ")\n",
    "\n",
    "from feature_engine.transformation import (\n",
    "    YeoJohnsonTransformer,\n",
    ")\n",
    "\n",
    "from feature_engine.selection import DropFeatures\n",
    "from feature_engine.wrappers import SklearnTransformerWrapper"
   ]
  },
  {
   "cell_type": "code",
   "execution_count": 2,
   "metadata": {},
   "outputs": [
    {
     "name": "stdout",
     "output_type": "stream",
     "text": [
      "(11914, 16)\n"
     ]
    },
    {
     "data": {
      "text/html": [
       "<div>\n",
       "<style scoped>\n",
       "    .dataframe tbody tr th:only-of-type {\n",
       "        vertical-align: middle;\n",
       "    }\n",
       "\n",
       "    .dataframe tbody tr th {\n",
       "        vertical-align: top;\n",
       "    }\n",
       "\n",
       "    .dataframe thead th {\n",
       "        text-align: right;\n",
       "    }\n",
       "</style>\n",
       "<table border=\"1\" class=\"dataframe\">\n",
       "  <thead>\n",
       "    <tr style=\"text-align: right;\">\n",
       "      <th></th>\n",
       "      <th>Make</th>\n",
       "      <th>Model</th>\n",
       "      <th>Year</th>\n",
       "      <th>Engine Fuel Type</th>\n",
       "      <th>Engine HP</th>\n",
       "      <th>Engine Cylinders</th>\n",
       "      <th>Transmission Type</th>\n",
       "      <th>Driven_Wheels</th>\n",
       "      <th>Number of Doors</th>\n",
       "      <th>Market Category</th>\n",
       "      <th>Vehicle Size</th>\n",
       "      <th>Vehicle Style</th>\n",
       "      <th>highway MPG</th>\n",
       "      <th>city mpg</th>\n",
       "      <th>Popularity</th>\n",
       "      <th>MSRP</th>\n",
       "    </tr>\n",
       "  </thead>\n",
       "  <tbody>\n",
       "    <tr>\n",
       "      <th>0</th>\n",
       "      <td>BMW</td>\n",
       "      <td>1 Series M</td>\n",
       "      <td>2011</td>\n",
       "      <td>premium unleaded (required)</td>\n",
       "      <td>335.0</td>\n",
       "      <td>6.0</td>\n",
       "      <td>MANUAL</td>\n",
       "      <td>rear wheel drive</td>\n",
       "      <td>2.0</td>\n",
       "      <td>Factory Tuner,Luxury,High-Performance</td>\n",
       "      <td>Compact</td>\n",
       "      <td>Coupe</td>\n",
       "      <td>26</td>\n",
       "      <td>19</td>\n",
       "      <td>3916</td>\n",
       "      <td>46135</td>\n",
       "    </tr>\n",
       "    <tr>\n",
       "      <th>1</th>\n",
       "      <td>BMW</td>\n",
       "      <td>1 Series</td>\n",
       "      <td>2011</td>\n",
       "      <td>premium unleaded (required)</td>\n",
       "      <td>300.0</td>\n",
       "      <td>6.0</td>\n",
       "      <td>MANUAL</td>\n",
       "      <td>rear wheel drive</td>\n",
       "      <td>2.0</td>\n",
       "      <td>Luxury,Performance</td>\n",
       "      <td>Compact</td>\n",
       "      <td>Convertible</td>\n",
       "      <td>28</td>\n",
       "      <td>19</td>\n",
       "      <td>3916</td>\n",
       "      <td>40650</td>\n",
       "    </tr>\n",
       "    <tr>\n",
       "      <th>2</th>\n",
       "      <td>BMW</td>\n",
       "      <td>1 Series</td>\n",
       "      <td>2011</td>\n",
       "      <td>premium unleaded (required)</td>\n",
       "      <td>300.0</td>\n",
       "      <td>6.0</td>\n",
       "      <td>MANUAL</td>\n",
       "      <td>rear wheel drive</td>\n",
       "      <td>2.0</td>\n",
       "      <td>Luxury,High-Performance</td>\n",
       "      <td>Compact</td>\n",
       "      <td>Coupe</td>\n",
       "      <td>28</td>\n",
       "      <td>20</td>\n",
       "      <td>3916</td>\n",
       "      <td>36350</td>\n",
       "    </tr>\n",
       "    <tr>\n",
       "      <th>3</th>\n",
       "      <td>BMW</td>\n",
       "      <td>1 Series</td>\n",
       "      <td>2011</td>\n",
       "      <td>premium unleaded (required)</td>\n",
       "      <td>230.0</td>\n",
       "      <td>6.0</td>\n",
       "      <td>MANUAL</td>\n",
       "      <td>rear wheel drive</td>\n",
       "      <td>2.0</td>\n",
       "      <td>Luxury,Performance</td>\n",
       "      <td>Compact</td>\n",
       "      <td>Coupe</td>\n",
       "      <td>28</td>\n",
       "      <td>18</td>\n",
       "      <td>3916</td>\n",
       "      <td>29450</td>\n",
       "    </tr>\n",
       "    <tr>\n",
       "      <th>4</th>\n",
       "      <td>BMW</td>\n",
       "      <td>1 Series</td>\n",
       "      <td>2011</td>\n",
       "      <td>premium unleaded (required)</td>\n",
       "      <td>230.0</td>\n",
       "      <td>6.0</td>\n",
       "      <td>MANUAL</td>\n",
       "      <td>rear wheel drive</td>\n",
       "      <td>2.0</td>\n",
       "      <td>Luxury</td>\n",
       "      <td>Compact</td>\n",
       "      <td>Convertible</td>\n",
       "      <td>28</td>\n",
       "      <td>18</td>\n",
       "      <td>3916</td>\n",
       "      <td>34500</td>\n",
       "    </tr>\n",
       "  </tbody>\n",
       "</table>\n",
       "</div>"
      ],
      "text/plain": [
       "  Make       Model  Year             Engine Fuel Type  Engine HP  \\\n",
       "0  BMW  1 Series M  2011  premium unleaded (required)      335.0   \n",
       "1  BMW    1 Series  2011  premium unleaded (required)      300.0   \n",
       "2  BMW    1 Series  2011  premium unleaded (required)      300.0   \n",
       "3  BMW    1 Series  2011  premium unleaded (required)      230.0   \n",
       "4  BMW    1 Series  2011  premium unleaded (required)      230.0   \n",
       "\n",
       "   Engine Cylinders Transmission Type     Driven_Wheels  Number of Doors  \\\n",
       "0               6.0            MANUAL  rear wheel drive              2.0   \n",
       "1               6.0            MANUAL  rear wheel drive              2.0   \n",
       "2               6.0            MANUAL  rear wheel drive              2.0   \n",
       "3               6.0            MANUAL  rear wheel drive              2.0   \n",
       "4               6.0            MANUAL  rear wheel drive              2.0   \n",
       "\n",
       "                         Market Category Vehicle Size Vehicle Style  \\\n",
       "0  Factory Tuner,Luxury,High-Performance      Compact         Coupe   \n",
       "1                     Luxury,Performance      Compact   Convertible   \n",
       "2                Luxury,High-Performance      Compact         Coupe   \n",
       "3                     Luxury,Performance      Compact         Coupe   \n",
       "4                                 Luxury      Compact   Convertible   \n",
       "\n",
       "   highway MPG  city mpg  Popularity   MSRP  \n",
       "0           26        19        3916  46135  \n",
       "1           28        19        3916  40650  \n",
       "2           28        20        3916  36350  \n",
       "3           28        18        3916  29450  \n",
       "4           28        18        3916  34500  "
      ]
     },
     "execution_count": 2,
     "metadata": {},
     "output_type": "execute_result"
    }
   ],
   "source": [
    "#load the data\n",
    "df = pd.read_csv('data.csv')\n",
    "\n",
    "print(df.shape)\n",
    "\n",
    "df.head()"
   ]
  },
  {
   "cell_type": "code",
   "execution_count": 41,
   "metadata": {},
   "outputs": [
    {
     "data": {
      "text/plain": [
       "make                  object\n",
       "model                 object\n",
       "year                   int64\n",
       "engine_fuel_type      object\n",
       "engine_hp            float64\n",
       "engine_cylinders      object\n",
       "transmission_type     object\n",
       "driven_wheels         object\n",
       "number_of_doors       object\n",
       "market_category       object\n",
       "vehicle_size          object\n",
       "vehicle_style         object\n",
       "highway_mpg            int64\n",
       "city_mpg               int64\n",
       "popularity             int64\n",
       "msrp                   int64\n",
       "dtype: object"
      ]
     },
     "execution_count": 41,
     "metadata": {},
     "output_type": "execute_result"
    }
   ],
   "source": [
    "df.dtypes"
   ]
  },
  {
   "cell_type": "code",
   "execution_count": 3,
   "metadata": {},
   "outputs": [],
   "source": [
    "#remove the spaces and format the case of each column titles\n",
    "df.columns = df.columns.str.lower().str.replace(' ', '_')"
   ]
  },
  {
   "cell_type": "code",
   "execution_count": 4,
   "metadata": {},
   "outputs": [],
   "source": [
    "#Let's create our cat vars and num vars\n",
    "cat_var = [var for var in df.columns if df[var].dtype == 'object']"
   ]
  },
  {
   "cell_type": "code",
   "execution_count": 5,
   "metadata": {},
   "outputs": [],
   "source": [
    "year_var = 'year'"
   ]
  },
  {
   "cell_type": "code",
   "execution_count": 6,
   "metadata": {},
   "outputs": [],
   "source": [
    "num_vars = [var for var in df.columns if var not in cat_var and var not in year_var and var != 'msrp']"
   ]
  },
  {
   "cell_type": "code",
   "execution_count": 7,
   "metadata": {},
   "outputs": [],
   "source": [
    "#remove the spaces and format the case of each column values\n",
    "\n",
    "for col in cat_var:\n",
    "    try:\n",
    "        if df[col].dtype == 'object':\n",
    "            df[col] = df[col].str.lower().str.replace(' ', '_')\n",
    "        else:\n",
    "            df[col] = df[col]\n",
    "    except TypeError:\n",
    "        print('wrong data type')\n",
    "       "
   ]
  },
  {
   "cell_type": "code",
   "execution_count": 8,
   "metadata": {},
   "outputs": [],
   "source": [
    "#replace na or nan with 0 in the number_of_doors variable\n",
    "df['number_of_doors'] = df['number_of_doors'].fillna(0)\n",
    "\n",
    "\n",
    "#number_of_doors is in actual sense supposed to be a cat var, so we first round the decimal to whole number.\n",
    "#also we round the values of engine_cylinder to whole number\n",
    "for i in df.index:\n",
    "    df['number_of_doors'] = round(df['number_of_doors'][i])\n",
    "    df['engine_cylinders'] = round(df['engine_cylinders'][i])\n",
    "\n",
    "#update the data type for number of doors, because in reality it should be a categorical variable and not numerical\n",
    "df['number_of_doors'] = df['number_of_doors'].astype('object')\n",
    "df['engine_cylinders'] = df['engine_cylinders'].astype('object')\n",
    "\n",
    "#add the new categorical variable to the list cat_var\n",
    "cat_var = cat_var + ['number_of_doors', 'engine_cylinders']"
   ]
  },
  {
   "attachments": {},
   "cell_type": "markdown",
   "metadata": {},
   "source": [
    "Separate data into train and test data"
   ]
  },
  {
   "cell_type": "code",
   "execution_count": 9,
   "metadata": {},
   "outputs": [
    {
     "data": {
      "text/plain": [
       "((8339, 15), (3575, 15))"
      ]
     },
     "execution_count": 9,
     "metadata": {},
     "output_type": "execute_result"
    }
   ],
   "source": [
    "x_train, x_test, y_train, y_test = train_test_split(df.drop('msrp', axis= 1), #predictive features\n",
    "                                                    df['msrp'], # target\n",
    "                                                    test_size=.3,\n",
    "                                                    random_state= 1,\n",
    "                                                    )\n",
    "\n",
    "x_train.shape, x_test.shape"
   ]
  },
  {
   "attachments": {},
   "cell_type": "markdown",
   "metadata": {},
   "source": [
    "TARGET"
   ]
  },
  {
   "cell_type": "code",
   "execution_count": 10,
   "metadata": {},
   "outputs": [],
   "source": [
    "y_train = np.log1p(y_train)\n",
    "y_test = np.log1p(y_test)"
   ]
  },
  {
   "attachments": {},
   "cell_type": "markdown",
   "metadata": {},
   "source": [
    "HANDLING MISSING VALUES"
   ]
  },
  {
   "cell_type": "code",
   "execution_count": 11,
   "metadata": {},
   "outputs": [
    {
     "name": "stdout",
     "output_type": "stream",
     "text": [
      "categorical variable with missing data:  ['engine_fuel_type', 'market_category']\n",
      "numerical variable with missing data:  ['engine_hp']\n",
      "categorical variables to have their missing data replaced with missing:  ['market_category']\n",
      "categorical variables to have their missing data replaced with freq var ['engine_fuel_type']\n"
     ]
    }
   ],
   "source": [
    "#missing variable creation\n",
    "var_with_na = [var for var in x_train.columns if x_train[var].isnull().sum() > 0]\n",
    "\n",
    "#categorical missing variables\n",
    "cat_var_na = [var for var in cat_var if var in var_with_na]\n",
    "print('categorical variable with missing data: ',cat_var_na)\n",
    "\n",
    "#numerical missing variables\n",
    "num_var_na = [var for var in var_with_na if var not in cat_var_na ]\n",
    "print('numerical variable with missing data: ',num_var_na)\n",
    "\n",
    "#variables to input with the string missing\n",
    "with_string_missing = [var for var in cat_var_na if x_train[var].isnull().mean()>0.1]\n",
    "print('categorical variables to have their missing data replaced with missing: ', with_string_missing)\n",
    "\n",
    "#variables to input with the most frequent categpry\n",
    "with_freq_category = [var for var in cat_var_na if x_train[var].isnull().mean()<0.1]\n",
    "print('categorical variables to have their missing data replaced with freq var', with_freq_category)"
   ]
  },
  {
   "attachments": {},
   "cell_type": "markdown",
   "metadata": {},
   "source": [
    "HANDLING CATEGORICAL MISSING DATA"
   ]
  },
  {
   "cell_type": "code",
   "execution_count": 12,
   "metadata": {},
   "outputs": [
    {
     "data": {
      "text/plain": [
       "{'market_category': 'Missing'}"
      ]
     },
     "execution_count": 12,
     "metadata": {},
     "output_type": "execute_result"
    }
   ],
   "source": [
    "#replace missing values with new label - missing\n",
    "\n",
    "#setup or instantiate the class\n",
    "cat_imputer_missing = CategoricalImputer(\n",
    "    imputation_method='missing', variables=with_string_missing\n",
    ")\n",
    "\n",
    "#fit the class to the train set\n",
    "cat_imputer_missing.fit(x_train)\n",
    "\n",
    "#the class learns and stores the parameter\n",
    "cat_imputer_missing.imputer_dict_"
   ]
  },
  {
   "cell_type": "code",
   "execution_count": 13,
   "metadata": {},
   "outputs": [],
   "source": [
    "#replace the NA by missing\n",
    "x_train = cat_imputer_missing.transform(x_train)\n",
    "x_test = cat_imputer_missing.transform(x_test)"
   ]
  },
  {
   "cell_type": "code",
   "execution_count": 14,
   "metadata": {},
   "outputs": [
    {
     "data": {
      "text/plain": [
       "{'engine_fuel_type': 'regular_unleaded'}"
      ]
     },
     "execution_count": 14,
     "metadata": {},
     "output_type": "execute_result"
    }
   ],
   "source": [
    "#replace missing values with most freq category\n",
    "\n",
    "#setup the class\n",
    "cat_imputer_freq = CategoricalImputer(\n",
    "    imputation_method='frequent', variables=with_freq_category\n",
    ")\n",
    "\n",
    "#fit the class to the train\n",
    "cat_imputer_freq.fit(x_train)\n",
    "\n",
    "#the class learns and stores the parameter\n",
    "cat_imputer_freq.imputer_dict_"
   ]
  },
  {
   "cell_type": "code",
   "execution_count": 15,
   "metadata": {},
   "outputs": [],
   "source": [
    "#replace the NA by most frequent\n",
    "x_train = cat_imputer_freq.transform(x_train)\n",
    "x_test = cat_imputer_freq.transform(x_test)"
   ]
  },
  {
   "cell_type": "code",
   "execution_count": 16,
   "metadata": {},
   "outputs": [
    {
     "data": {
      "text/plain": [
       "engine_fuel_type    0\n",
       "market_category     0\n",
       "dtype: int64"
      ]
     },
     "execution_count": 16,
     "metadata": {},
     "output_type": "execute_result"
    }
   ],
   "source": [
    "#validate that we have no missing data in train\n",
    "x_train[cat_var_na].isnull().sum()"
   ]
  },
  {
   "cell_type": "code",
   "execution_count": 17,
   "metadata": {},
   "outputs": [
    {
     "data": {
      "text/plain": [
       "engine_fuel_type    0\n",
       "market_category     0\n",
       "dtype: int64"
      ]
     },
     "execution_count": 17,
     "metadata": {},
     "output_type": "execute_result"
    }
   ],
   "source": [
    "#validate that we have no missing data in test\n",
    "x_test[cat_var_na].isnull().sum()"
   ]
  },
  {
   "attachments": {},
   "cell_type": "markdown",
   "metadata": {},
   "source": [
    "HANDLING THE NUMERICAL MISSING DATA"
   ]
  },
  {
   "cell_type": "code",
   "execution_count": 18,
   "metadata": {},
   "outputs": [
    {
     "data": {
      "text/html": [
       "<div>\n",
       "<style scoped>\n",
       "    .dataframe tbody tr th:only-of-type {\n",
       "        vertical-align: middle;\n",
       "    }\n",
       "\n",
       "    .dataframe tbody tr th {\n",
       "        vertical-align: top;\n",
       "    }\n",
       "\n",
       "    .dataframe thead th {\n",
       "        text-align: right;\n",
       "    }\n",
       "</style>\n",
       "<table border=\"1\" class=\"dataframe\">\n",
       "  <thead>\n",
       "    <tr style=\"text-align: right;\">\n",
       "      <th></th>\n",
       "      <th>make</th>\n",
       "      <th>model</th>\n",
       "      <th>year</th>\n",
       "      <th>engine_fuel_type</th>\n",
       "      <th>engine_hp</th>\n",
       "      <th>engine_cylinders</th>\n",
       "      <th>transmission_type</th>\n",
       "      <th>driven_wheels</th>\n",
       "      <th>number_of_doors</th>\n",
       "      <th>market_category</th>\n",
       "      <th>vehicle_size</th>\n",
       "      <th>vehicle_style</th>\n",
       "      <th>highway_mpg</th>\n",
       "      <th>city_mpg</th>\n",
       "      <th>popularity</th>\n",
       "      <th>engine_hp_na</th>\n",
       "    </tr>\n",
       "  </thead>\n",
       "  <tbody>\n",
       "    <tr>\n",
       "      <th>10660</th>\n",
       "      <td>ford</td>\n",
       "      <td>transit_connect</td>\n",
       "      <td>2016</td>\n",
       "      <td>regular_unleaded</td>\n",
       "      <td>169.0</td>\n",
       "      <td>6</td>\n",
       "      <td>automatic</td>\n",
       "      <td>front_wheel_drive</td>\n",
       "      <td>2</td>\n",
       "      <td>Missing</td>\n",
       "      <td>compact</td>\n",
       "      <td>cargo_minivan</td>\n",
       "      <td>29</td>\n",
       "      <td>21</td>\n",
       "      <td>5657</td>\n",
       "      <td>0</td>\n",
       "    </tr>\n",
       "    <tr>\n",
       "      <th>4140</th>\n",
       "      <td>cadillac</td>\n",
       "      <td>escalade_hybrid</td>\n",
       "      <td>2011</td>\n",
       "      <td>regular_unleaded</td>\n",
       "      <td>332.0</td>\n",
       "      <td>6</td>\n",
       "      <td>automatic</td>\n",
       "      <td>rear_wheel_drive</td>\n",
       "      <td>2</td>\n",
       "      <td>luxury,hybrid</td>\n",
       "      <td>large</td>\n",
       "      <td>4dr_suv</td>\n",
       "      <td>23</td>\n",
       "      <td>20</td>\n",
       "      <td>1624</td>\n",
       "      <td>0</td>\n",
       "    </tr>\n",
       "    <tr>\n",
       "      <th>11414</th>\n",
       "      <td>chrysler</td>\n",
       "      <td>voyager</td>\n",
       "      <td>2002</td>\n",
       "      <td>flex-fuel_(unleaded/e85)</td>\n",
       "      <td>180.0</td>\n",
       "      <td>6</td>\n",
       "      <td>automatic</td>\n",
       "      <td>front_wheel_drive</td>\n",
       "      <td>2</td>\n",
       "      <td>Missing</td>\n",
       "      <td>large</td>\n",
       "      <td>passenger_minivan</td>\n",
       "      <td>22</td>\n",
       "      <td>16</td>\n",
       "      <td>1013</td>\n",
       "      <td>0</td>\n",
       "    </tr>\n",
       "    <tr>\n",
       "      <th>5119</th>\n",
       "      <td>infiniti</td>\n",
       "      <td>g_sedan</td>\n",
       "      <td>2013</td>\n",
       "      <td>premium_unleaded_(required)</td>\n",
       "      <td>328.0</td>\n",
       "      <td>6</td>\n",
       "      <td>manual</td>\n",
       "      <td>rear_wheel_drive</td>\n",
       "      <td>2</td>\n",
       "      <td>luxury,high-performance</td>\n",
       "      <td>midsize</td>\n",
       "      <td>sedan</td>\n",
       "      <td>25</td>\n",
       "      <td>17</td>\n",
       "      <td>190</td>\n",
       "      <td>0</td>\n",
       "    </tr>\n",
       "    <tr>\n",
       "      <th>2639</th>\n",
       "      <td>chevrolet</td>\n",
       "      <td>c/k_1500_series</td>\n",
       "      <td>1998</td>\n",
       "      <td>regular_unleaded</td>\n",
       "      <td>200.0</td>\n",
       "      <td>6</td>\n",
       "      <td>manual</td>\n",
       "      <td>four_wheel_drive</td>\n",
       "      <td>2</td>\n",
       "      <td>Missing</td>\n",
       "      <td>large</td>\n",
       "      <td>extended_cab_pickup</td>\n",
       "      <td>19</td>\n",
       "      <td>14</td>\n",
       "      <td>1385</td>\n",
       "      <td>0</td>\n",
       "    </tr>\n",
       "  </tbody>\n",
       "</table>\n",
       "</div>"
      ],
      "text/plain": [
       "            make            model  year             engine_fuel_type  \\\n",
       "10660       ford  transit_connect  2016             regular_unleaded   \n",
       "4140    cadillac  escalade_hybrid  2011             regular_unleaded   \n",
       "11414   chrysler          voyager  2002     flex-fuel_(unleaded/e85)   \n",
       "5119    infiniti          g_sedan  2013  premium_unleaded_(required)   \n",
       "2639   chevrolet  c/k_1500_series  1998             regular_unleaded   \n",
       "\n",
       "       engine_hp engine_cylinders transmission_type      driven_wheels  \\\n",
       "10660      169.0                6         automatic  front_wheel_drive   \n",
       "4140       332.0                6         automatic   rear_wheel_drive   \n",
       "11414      180.0                6         automatic  front_wheel_drive   \n",
       "5119       328.0                6            manual   rear_wheel_drive   \n",
       "2639       200.0                6            manual   four_wheel_drive   \n",
       "\n",
       "      number_of_doors          market_category vehicle_size  \\\n",
       "10660               2                  Missing      compact   \n",
       "4140                2            luxury,hybrid        large   \n",
       "11414               2                  Missing        large   \n",
       "5119                2  luxury,high-performance      midsize   \n",
       "2639                2                  Missing        large   \n",
       "\n",
       "             vehicle_style  highway_mpg  city_mpg  popularity  engine_hp_na  \n",
       "10660        cargo_minivan           29        21        5657             0  \n",
       "4140               4dr_suv           23        20        1624             0  \n",
       "11414    passenger_minivan           22        16        1013             0  \n",
       "5119                 sedan           25        17         190             0  \n",
       "2639   extended_cab_pickup           19        14        1385             0  "
      ]
     },
     "execution_count": 18,
     "metadata": {},
     "output_type": "execute_result"
    }
   ],
   "source": [
    "#To handle missing values in numerical variables we will solve it in two ways:\n",
    "# - add a binary missing indicator\n",
    "# - then replace missing values in the original variable with the mean\n",
    "\n",
    "#setup the class\n",
    "missing_ind = AddMissingIndicator(variables=num_var_na)\n",
    "\n",
    "#fit the class to the train data\n",
    "missing_ind.fit(x_train)\n",
    "\n",
    "x_train = missing_ind.transform(x_train)\n",
    "x_test = missing_ind.transform(x_test)\n",
    "\n",
    "#inspect the binary missing indicator variable\n",
    "x_train.head()\n"
   ]
  },
  {
   "cell_type": "code",
   "execution_count": 19,
   "metadata": {},
   "outputs": [
    {
     "data": {
      "image/png": "[encoded data removed]",
      "text/plain": [
       "<Figure size 1152x1152 with 1 Axes>"
      ]
     },
     "metadata": {
      "needs_background": "light"
     },
     "output_type": "display_data"
    }
   ],
   "source": [
    "#investigating the distribution of engine_hp to ascertain what measure of central tendency we would use\n",
    "plt.figure(figsize=(16,16))\n",
    "x_train['engine_hp'].hist(bins= 100)\n",
    "x_test['engine_hp'].hist(bins= 100)\n",
    "plt.show()"
   ]
  },
  {
   "cell_type": "code",
   "execution_count": 20,
   "metadata": {},
   "outputs": [
    {
     "data": {
      "text/plain": [
       "{'engine_hp': 225.0}"
      ]
     },
     "execution_count": 20,
     "metadata": {},
     "output_type": "execute_result"
    }
   ],
   "source": [
    "#From the above, we will use the median to replace missing values as it is less likely impacted by the variance\n",
    "\n",
    "#replacing the missing data with the median\n",
    "\n",
    "#set the inputter by creating an instance of the class\n",
    "median_inputer = MeanMedianImputer(\n",
    "    imputation_method= 'median', variables= num_var_na\n",
    ")\n",
    "\n",
    "#learn and store paramters from the train set\n",
    "median_inputer.fit(x_train)\n",
    "\n",
    "#view the stored parameters\n",
    "median_inputer.imputer_dict_"
   ]
  },
  {
   "cell_type": "code",
   "execution_count": 21,
   "metadata": {},
   "outputs": [
    {
     "data": {
      "text/plain": [
       "engine_hp    0\n",
       "dtype: int64"
      ]
     },
     "execution_count": 21,
     "metadata": {},
     "output_type": "execute_result"
    }
   ],
   "source": [
    "x_train = median_inputer.transform(x_train)\n",
    "x_test = median_inputer.transform(x_test)\n",
    "\n",
    "#check if there are still occurences of missing data\n",
    "x_train[num_var_na].isnull().sum()"
   ]
  },
  {
   "attachments": {},
   "cell_type": "markdown",
   "metadata": {},
   "source": [
    "TEMPORAL VARIABLES"
   ]
  },
  {
   "cell_type": "code",
   "execution_count": 22,
   "metadata": {},
   "outputs": [],
   "source": [
    "#Two operations would be performed here, the extraction of the car age and the dropping of the year variable\n",
    "\n",
    "def car_age(df):\n",
    "    #create an empty list to hold the values \n",
    "    age = []\n",
    "    for i in df['year'].index:\n",
    "        age.append(df['year'].max() - df['year'][i])\n",
    "    df['age'] = age\n",
    "\n",
    "    return df"
   ]
  },
  {
   "cell_type": "code",
   "execution_count": 23,
   "metadata": {},
   "outputs": [],
   "source": [
    "#let's call our function on our train and test sets respectively\n",
    "x_train = car_age(x_train)\n",
    "x_test = car_age(x_test)"
   ]
  },
  {
   "cell_type": "code",
   "execution_count": 24,
   "metadata": {},
   "outputs": [
    {
     "data": {
      "text/html": [
       "<div>\n",
       "<style scoped>\n",
       "    .dataframe tbody tr th:only-of-type {\n",
       "        vertical-align: middle;\n",
       "    }\n",
       "\n",
       "    .dataframe tbody tr th {\n",
       "        vertical-align: top;\n",
       "    }\n",
       "\n",
       "    .dataframe thead th {\n",
       "        text-align: right;\n",
       "    }\n",
       "</style>\n",
       "<table border=\"1\" class=\"dataframe\">\n",
       "  <thead>\n",
       "    <tr style=\"text-align: right;\">\n",
       "      <th></th>\n",
       "      <th>make</th>\n",
       "      <th>model</th>\n",
       "      <th>year</th>\n",
       "      <th>engine_fuel_type</th>\n",
       "      <th>engine_hp</th>\n",
       "      <th>engine_cylinders</th>\n",
       "      <th>transmission_type</th>\n",
       "      <th>driven_wheels</th>\n",
       "      <th>number_of_doors</th>\n",
       "      <th>market_category</th>\n",
       "      <th>vehicle_size</th>\n",
       "      <th>vehicle_style</th>\n",
       "      <th>highway_mpg</th>\n",
       "      <th>city_mpg</th>\n",
       "      <th>popularity</th>\n",
       "      <th>engine_hp_na</th>\n",
       "      <th>age</th>\n",
       "    </tr>\n",
       "  </thead>\n",
       "  <tbody>\n",
       "    <tr>\n",
       "      <th>10660</th>\n",
       "      <td>ford</td>\n",
       "      <td>transit_connect</td>\n",
       "      <td>2016</td>\n",
       "      <td>regular_unleaded</td>\n",
       "      <td>169.0</td>\n",
       "      <td>6</td>\n",
       "      <td>automatic</td>\n",
       "      <td>front_wheel_drive</td>\n",
       "      <td>2</td>\n",
       "      <td>Missing</td>\n",
       "      <td>compact</td>\n",
       "      <td>cargo_minivan</td>\n",
       "      <td>29</td>\n",
       "      <td>21</td>\n",
       "      <td>5657</td>\n",
       "      <td>0</td>\n",
       "      <td>1</td>\n",
       "    </tr>\n",
       "    <tr>\n",
       "      <th>4140</th>\n",
       "      <td>cadillac</td>\n",
       "      <td>escalade_hybrid</td>\n",
       "      <td>2011</td>\n",
       "      <td>regular_unleaded</td>\n",
       "      <td>332.0</td>\n",
       "      <td>6</td>\n",
       "      <td>automatic</td>\n",
       "      <td>rear_wheel_drive</td>\n",
       "      <td>2</td>\n",
       "      <td>luxury,hybrid</td>\n",
       "      <td>large</td>\n",
       "      <td>4dr_suv</td>\n",
       "      <td>23</td>\n",
       "      <td>20</td>\n",
       "      <td>1624</td>\n",
       "      <td>0</td>\n",
       "      <td>6</td>\n",
       "    </tr>\n",
       "    <tr>\n",
       "      <th>11414</th>\n",
       "      <td>chrysler</td>\n",
       "      <td>voyager</td>\n",
       "      <td>2002</td>\n",
       "      <td>flex-fuel_(unleaded/e85)</td>\n",
       "      <td>180.0</td>\n",
       "      <td>6</td>\n",
       "      <td>automatic</td>\n",
       "      <td>front_wheel_drive</td>\n",
       "      <td>2</td>\n",
       "      <td>Missing</td>\n",
       "      <td>large</td>\n",
       "      <td>passenger_minivan</td>\n",
       "      <td>22</td>\n",
       "      <td>16</td>\n",
       "      <td>1013</td>\n",
       "      <td>0</td>\n",
       "      <td>15</td>\n",
       "    </tr>\n",
       "    <tr>\n",
       "      <th>5119</th>\n",
       "      <td>infiniti</td>\n",
       "      <td>g_sedan</td>\n",
       "      <td>2013</td>\n",
       "      <td>premium_unleaded_(required)</td>\n",
       "      <td>328.0</td>\n",
       "      <td>6</td>\n",
       "      <td>manual</td>\n",
       "      <td>rear_wheel_drive</td>\n",
       "      <td>2</td>\n",
       "      <td>luxury,high-performance</td>\n",
       "      <td>midsize</td>\n",
       "      <td>sedan</td>\n",
       "      <td>25</td>\n",
       "      <td>17</td>\n",
       "      <td>190</td>\n",
       "      <td>0</td>\n",
       "      <td>4</td>\n",
       "    </tr>\n",
       "    <tr>\n",
       "      <th>2639</th>\n",
       "      <td>chevrolet</td>\n",
       "      <td>c/k_1500_series</td>\n",
       "      <td>1998</td>\n",
       "      <td>regular_unleaded</td>\n",
       "      <td>200.0</td>\n",
       "      <td>6</td>\n",
       "      <td>manual</td>\n",
       "      <td>four_wheel_drive</td>\n",
       "      <td>2</td>\n",
       "      <td>Missing</td>\n",
       "      <td>large</td>\n",
       "      <td>extended_cab_pickup</td>\n",
       "      <td>19</td>\n",
       "      <td>14</td>\n",
       "      <td>1385</td>\n",
       "      <td>0</td>\n",
       "      <td>19</td>\n",
       "    </tr>\n",
       "  </tbody>\n",
       "</table>\n",
       "</div>"
      ],
      "text/plain": [
       "            make            model  year             engine_fuel_type  \\\n",
       "10660       ford  transit_connect  2016             regular_unleaded   \n",
       "4140    cadillac  escalade_hybrid  2011             regular_unleaded   \n",
       "11414   chrysler          voyager  2002     flex-fuel_(unleaded/e85)   \n",
       "5119    infiniti          g_sedan  2013  premium_unleaded_(required)   \n",
       "2639   chevrolet  c/k_1500_series  1998             regular_unleaded   \n",
       "\n",
       "       engine_hp engine_cylinders transmission_type      driven_wheels  \\\n",
       "10660      169.0                6         automatic  front_wheel_drive   \n",
       "4140       332.0                6         automatic   rear_wheel_drive   \n",
       "11414      180.0                6         automatic  front_wheel_drive   \n",
       "5119       328.0                6            manual   rear_wheel_drive   \n",
       "2639       200.0                6            manual   four_wheel_drive   \n",
       "\n",
       "      number_of_doors          market_category vehicle_size  \\\n",
       "10660               2                  Missing      compact   \n",
       "4140                2            luxury,hybrid        large   \n",
       "11414               2                  Missing        large   \n",
       "5119                2  luxury,high-performance      midsize   \n",
       "2639                2                  Missing        large   \n",
       "\n",
       "             vehicle_style  highway_mpg  city_mpg  popularity  engine_hp_na  \\\n",
       "10660        cargo_minivan           29        21        5657             0   \n",
       "4140               4dr_suv           23        20        1624             0   \n",
       "11414    passenger_minivan           22        16        1013             0   \n",
       "5119                 sedan           25        17         190             0   \n",
       "2639   extended_cab_pickup           19        14        1385             0   \n",
       "\n",
       "       age  \n",
       "10660    1  \n",
       "4140     6  \n",
       "11414   15  \n",
       "5119     4  \n",
       "2639    19  "
      ]
     },
     "execution_count": 24,
     "metadata": {},
     "output_type": "execute_result"
    }
   ],
   "source": [
    "x_train.head()"
   ]
  },
  {
   "attachments": {},
   "cell_type": "markdown",
   "metadata": {},
   "source": [
    "DROP FEATURES THAT ARE INCONSEQUENCIAL"
   ]
  },
  {
   "cell_type": "code",
   "execution_count": 25,
   "metadata": {},
   "outputs": [],
   "source": [
    "#Let's drop the year and model variables\n",
    "drop_features = DropFeatures(features_to_drop=['year', 'model'])\n",
    "\n",
    "x_train = drop_features.fit_transform(x_train)\n",
    "x_test = drop_features.transform(x_test)\n",
    "\n",
    "\n",
    "cat_var.remove('model')"
   ]
  },
  {
   "cell_type": "code",
   "execution_count": 26,
   "metadata": {},
   "outputs": [
    {
     "data": {
      "text/plain": [
       "make                 object\n",
       "engine_fuel_type     object\n",
       "transmission_type    object\n",
       "driven_wheels        object\n",
       "market_category      object\n",
       "vehicle_size         object\n",
       "vehicle_style        object\n",
       "number_of_doors      object\n",
       "engine_cylinders     object\n",
       "dtype: object"
      ]
     },
     "execution_count": 26,
     "metadata": {},
     "output_type": "execute_result"
    }
   ],
   "source": [
    "x_train[cat_var].dtypes"
   ]
  },
  {
   "attachments": {},
   "cell_type": "markdown",
   "metadata": {},
   "source": [
    "NUMERICAL VARIABLE TRANSFORMATION"
   ]
  },
  {
   "cell_type": "code",
   "execution_count": 27,
   "metadata": {},
   "outputs": [
    {
     "data": {
      "text/plain": [
       "{'highway_mpg': -0.5981125558266324, 'city_mpg': -0.8285887515363296}"
      ]
     },
     "execution_count": 27,
     "metadata": {},
     "output_type": "execute_result"
    }
   ],
   "source": [
    "#Using yeo-johnson transforamtion to improve the distribution characteristics of our continuous numerical data\n",
    "\n",
    "yeo_johnson_transformer = YeoJohnsonTransformer(\n",
    "    variables= ['highway_mpg','city_mpg']\n",
    ")\n",
    "\n",
    "x_train = yeo_johnson_transformer.fit_transform(x_train)\n",
    "x_test = yeo_johnson_transformer.transform(x_test)\n",
    "\n",
    "#view the learned parameters\n",
    "yeo_johnson_transformer.lambda_dict_"
   ]
  },
  {
   "attachments": {},
   "cell_type": "markdown",
   "metadata": {},
   "source": [
    "HANDLING RARE VALUES IN CATEGORICAL VARIABLES"
   ]
  },
  {
   "cell_type": "code",
   "execution_count": 28,
   "metadata": {},
   "outputs": [
    {
     "name": "stderr",
     "output_type": "stream",
     "text": [
      "/Users/eugene/opt/anaconda3/lib/python3.9/site-packages/feature_engine/encoding/rare_label.py:182: UserWarning: The number of unique categories for variable number_of_doors is less than that indicated in n_categories. Thus, all categories will be considered frequent\n",
      "  warnings.warn(\n",
      "/Users/eugene/opt/anaconda3/lib/python3.9/site-packages/feature_engine/encoding/rare_label.py:182: UserWarning: The number of unique categories for variable engine_cylinders is less than that indicated in n_categories. Thus, all categories will be considered frequent\n",
      "  warnings.warn(\n"
     ]
    },
    {
     "data": {
      "text/plain": [
       "{'make': Index(['chevrolet', 'ford', 'volkswagen', 'toyota', 'dodge', 'nissan', 'gmc',\n",
       "        'honda', 'mazda', 'cadillac', 'mercedes-benz', 'suzuki', 'audi',\n",
       "        'infiniti', 'bmw', 'hyundai', 'volvo', 'subaru', 'acura', 'kia',\n",
       "        'mitsubishi', 'buick', 'chrysler', 'lexus', 'pontiac', 'lincoln',\n",
       "        'oldsmobile', 'land_rover', 'porsche'],\n",
       "       dtype='object'),\n",
       " 'engine_fuel_type': Index(['regular_unleaded', 'premium_unleaded_(required)',\n",
       "        'premium_unleaded_(recommended)', 'flex-fuel_(unleaded/e85)', 'diesel'],\n",
       "       dtype='object'),\n",
       " 'transmission_type': Index(['automatic', 'manual', 'automated_manual'], dtype='object'),\n",
       " 'driven_wheels': Index(['front_wheel_drive', 'rear_wheel_drive', 'all_wheel_drive',\n",
       "        'four_wheel_drive'],\n",
       "       dtype='object'),\n",
       " 'market_category': Index(['Missing', 'crossover', 'flex_fuel', 'luxury', 'luxury,performance',\n",
       "        'hatchback', 'performance', 'crossover,luxury',\n",
       "        'luxury,high-performance', 'exotic,high-performance',\n",
       "        'hatchback,performance', 'factory_tuner,luxury,high-performance',\n",
       "        'high-performance', 'hybrid', 'crossover,luxury,performance'],\n",
       "       dtype='object'),\n",
       " 'vehicle_size': Index(['compact', 'midsize', 'large'], dtype='object'),\n",
       " 'vehicle_style': Index(['sedan', '4dr_suv', 'coupe', 'convertible', '4dr_hatchback',\n",
       "        'crew_cab_pickup', 'extended_cab_pickup', 'wagon', '2dr_hatchback',\n",
       "        'regular_cab_pickup', 'passenger_minivan', '2dr_suv', 'passenger_van'],\n",
       "       dtype='object'),\n",
       " 'number_of_doors': array([2], dtype=object),\n",
       " 'engine_cylinders': array([6], dtype=object)}"
      ]
     },
     "execution_count": 28,
     "metadata": {},
     "output_type": "execute_result"
    }
   ],
   "source": [
    "#using the rare label encoder class\n",
    "#create an object of the class \n",
    "rare_encoder = RareLabelEncoder(tol=0.01, n_categories=1, variables=cat_var)\n",
    "\n",
    "\n",
    "#find common labels\n",
    "rare_encoder.fit(x_train)\n",
    "\n",
    "#we store our common labels in a dict and save the class\n",
    "rare_encoder.encoder_dict_"
   ]
  },
  {
   "cell_type": "code",
   "execution_count": 29,
   "metadata": {},
   "outputs": [],
   "source": [
    "x_train = rare_encoder.transform(x_train)\n",
    "x_test = rare_encoder.transform(x_test)"
   ]
  },
  {
   "attachments": {},
   "cell_type": "markdown",
   "metadata": {},
   "source": [
    "CATEGORICAL VARIABLE ENCODING"
   ]
  },
  {
   "cell_type": "code",
   "execution_count": 30,
   "metadata": {},
   "outputs": [
    {
     "data": {
      "text/plain": [
       "['make',\n",
       " 'engine_fuel_type',\n",
       " 'transmission_type',\n",
       " 'driven_wheels',\n",
       " 'market_category',\n",
       " 'vehicle_size',\n",
       " 'vehicle_style',\n",
       " 'number_of_doors',\n",
       " 'engine_cylinders']"
      ]
     },
     "execution_count": 30,
     "metadata": {},
     "output_type": "execute_result"
    }
   ],
   "source": [
    "cat_var"
   ]
  },
  {
   "cell_type": "code",
   "execution_count": 31,
   "metadata": {},
   "outputs": [
    {
     "data": {
      "text/plain": [
       "{'make': {'oldsmobile': 0,\n",
       "  'dodge': 1,\n",
       "  'pontiac': 2,\n",
       "  'mazda': 3,\n",
       "  'volvo': 4,\n",
       "  'suzuki': 5,\n",
       "  'mitsubishi': 6,\n",
       "  'buick': 7,\n",
       "  'ford': 8,\n",
       "  'subaru': 9,\n",
       "  'chrysler': 10,\n",
       "  'chevrolet': 11,\n",
       "  'nissan': 12,\n",
       "  'gmc': 13,\n",
       "  'hyundai': 14,\n",
       "  'toyota': 15,\n",
       "  'honda': 16,\n",
       "  'kia': 17,\n",
       "  'acura': 18,\n",
       "  'volkswagen': 19,\n",
       "  'lincoln': 20,\n",
       "  'audi': 21,\n",
       "  'mercedes-benz': 22,\n",
       "  'infiniti': 23,\n",
       "  'lexus': 24,\n",
       "  'cadillac': 25,\n",
       "  'bmw': 26,\n",
       "  'Rare': 27,\n",
       "  'land_rover': 28,\n",
       "  'porsche': 29},\n",
       " 'engine_fuel_type': {'regular_unleaded': 0,\n",
       "  'diesel': 1,\n",
       "  'flex-fuel_(unleaded/e85)': 2,\n",
       "  'premium_unleaded_(recommended)': 3,\n",
       "  'Rare': 4,\n",
       "  'premium_unleaded_(required)': 5},\n",
       " 'transmission_type': {'manual': 0,\n",
       "  'Rare': 1,\n",
       "  'automatic': 2,\n",
       "  'automated_manual': 3},\n",
       " 'driven_wheels': {'front_wheel_drive': 0,\n",
       "  'four_wheel_drive': 1,\n",
       "  'rear_wheel_drive': 2,\n",
       "  'all_wheel_drive': 3},\n",
       " 'market_category': {'hatchback': 0,\n",
       "  'Missing': 1,\n",
       "  'luxury': 2,\n",
       "  'hatchback,performance': 3,\n",
       "  'performance': 4,\n",
       "  'crossover': 5,\n",
       "  'flex_fuel': 6,\n",
       "  'hybrid': 7,\n",
       "  'luxury,performance': 8,\n",
       "  'high-performance': 9,\n",
       "  'crossover,luxury': 10,\n",
       "  'Rare': 11,\n",
       "  'crossover,luxury,performance': 12,\n",
       "  'factory_tuner,luxury,high-performance': 13,\n",
       "  'luxury,high-performance': 14,\n",
       "  'exotic,high-performance': 15},\n",
       " 'vehicle_size': {'compact': 0, 'midsize': 1, 'large': 2},\n",
       " 'vehicle_style': {'2dr_suv': 0,\n",
       "  'regular_cab_pickup': 1,\n",
       "  'Rare': 2,\n",
       "  '2dr_hatchback': 3,\n",
       "  'extended_cab_pickup': 4,\n",
       "  'wagon': 5,\n",
       "  '4dr_hatchback': 6,\n",
       "  'passenger_minivan': 7,\n",
       "  'passenger_van': 8,\n",
       "  'sedan': 9,\n",
       "  'coupe': 10,\n",
       "  '4dr_suv': 11,\n",
       "  'crew_cab_pickup': 12,\n",
       "  'convertible': 13},\n",
       " 'number_of_doors': {2: 0},\n",
       " 'engine_cylinders': {6: 0}}"
      ]
     },
     "execution_count": 31,
     "metadata": {},
     "output_type": "execute_result"
    }
   ],
   "source": [
    "#setup the encoder object\n",
    "cat_encoder = OrdinalEncoder(encoding_method='ordered', variables=cat_var)\n",
    "\n",
    "#fit the model and create the mappings\n",
    "cat_encoder.fit(x_train, y_train)\n",
    "\n",
    "#save the mappings and class created\n",
    "cat_encoder.encoder_dict_"
   ]
  },
  {
   "cell_type": "code",
   "execution_count": 32,
   "metadata": {},
   "outputs": [],
   "source": [
    "x_train = cat_encoder.transform(x_train)\n",
    "x_test = cat_encoder.transform(x_test)"
   ]
  },
  {
   "cell_type": "code",
   "execution_count": 33,
   "metadata": {},
   "outputs": [
    {
     "data": {
      "text/plain": [
       "[]"
      ]
     },
     "execution_count": 33,
     "metadata": {},
     "output_type": "execute_result"
    }
   ],
   "source": [
    "#check absence of na in the train set\n",
    "[var for var in x_train.columns if x_train[var].isnull().sum() >0]"
   ]
  },
  {
   "cell_type": "code",
   "execution_count": 34,
   "metadata": {},
   "outputs": [
    {
     "data": {
      "text/plain": [
       "[]"
      ]
     },
     "execution_count": 34,
     "metadata": {},
     "output_type": "execute_result"
    }
   ],
   "source": [
    "#check absence of na in the test set\n",
    "[var for var in x_test.columns if x_test[var].isnull().sum() >0]"
   ]
  },
  {
   "attachments": {},
   "cell_type": "markdown",
   "metadata": {},
   "source": [
    "OBSERVING THE MONOTONIC RELATIONSHIP BETWEEN THE LABELS AND THE TARGET VARIABLE"
   ]
  },
  {
   "cell_type": "code",
   "execution_count": 35,
   "metadata": {},
   "outputs": [
    {
     "data": {
      "image/png": "[encoded data removed]",
      "text/plain": [
       "<Figure size 432x288 with 1 Axes>"
      ]
     },
     "metadata": {
      "needs_background": "light"
     },
     "output_type": "display_data"
    },
    {
     "data": {
      "image/png": "[encoded data removed]",
      "text/plain": [
       "<Figure size 432x288 with 1 Axes>"
      ]
     },
     "metadata": {
      "needs_background": "light"
     },
     "output_type": "display_data"
    },
    {
     "data": {
      "image/png": "[encoded data removed]",
      "text/plain": [
       "<Figure size 432x288 with 1 Axes>"
      ]
     },
     "metadata": {
      "needs_background": "light"
     },
     "output_type": "display_data"
    },
    {
     "data": {
      "image/png": "[encoded data removed]",
      "text/plain": [
       "<Figure size 432x288 with 1 Axes>"
      ]
     },
     "metadata": {
      "needs_background": "light"
     },
     "output_type": "display_data"
    },
    {
     "data": {
      "image/png": "[encoded data removed]",
      "text/plain": [
       "<Figure size 432x288 with 1 Axes>"
      ]
     },
     "metadata": {
      "needs_background": "light"
     },
     "output_type": "display_data"
    },
    {
     "data": {
      "image/png": "[encoded data removed]",
      "text/plain": [
       "<Figure size 432x288 with 1 Axes>"
      ]
     },
     "metadata": {
      "needs_background": "light"
     },
     "output_type": "display_data"
    },
    {
     "data": {
      "image/png": "[encoded data removed]",
      "text/plain": [
       "<Figure size 432x288 with 1 Axes>"
      ]
     },
     "metadata": {
      "needs_background": "light"
     },
     "output_type": "display_data"
    },
    {
     "data": {
      "image/png": "[encoded data removed]",
      "text/plain": [
       "<Figure size 432x288 with 1 Axes>"
      ]
     },
     "metadata": {
      "needs_background": "light"
     },
     "output_type": "display_data"
    },
    {
     "data": {
      "image/png": "[encoded data removed]",
      "text/plain": [
       "<Figure size 432x288 with 1 Axes>"
      ]
     },
     "metadata": {
      "needs_background": "light"
     },
     "output_type": "display_data"
    }
   ],
   "source": [
    " #let me show you what I mean by monotonic relationship\n",
    "# between labels and target\n",
    "\n",
    "def analyse_vars(X_train, y_train, var):\n",
    "    \n",
    "    # function plots median car msrp per encoded\n",
    "    # category\n",
    "    \n",
    "    tmp = pd.concat([X_train, np.log(y_train)], axis=1)\n",
    "    \n",
    "    tmp.groupby(var)['msrp'].median().plot.bar()\n",
    "    plt.title(var)\n",
    "    plt.ylim(2.2, 2.6)\n",
    "    plt.ylabel('msrp')\n",
    "    plt.show()\n",
    "    \n",
    "for var in cat_var:\n",
    "    analyse_vars(x_train, y_train, var)"
   ]
  },
  {
   "attachments": {},
   "cell_type": "markdown",
   "metadata": {},
   "source": [
    "FEATRUE SCALING"
   ]
  },
  {
   "cell_type": "code",
   "execution_count": 36,
   "metadata": {},
   "outputs": [],
   "source": [
    "#create our scalar object\n",
    "scalar = MinMaxScaler()\n",
    "\n",
    "#fit the scalar to the train set to learn our data\n",
    "scalar.fit(x_train)\n",
    "\n",
    "#transform the train and the test set and wrap it back to a dataframe\n",
    "x_train = pd.DataFrame(scalar.transform(x_train), columns= x_train.columns)\n",
    "x_test = pd.DataFrame(scalar.transform(x_test), columns= x_test.columns)"
   ]
  },
  {
   "cell_type": "code",
   "execution_count": 37,
   "metadata": {},
   "outputs": [
    {
     "data": {
      "text/html": [
       "<div>\n",
       "<style scoped>\n",
       "    .dataframe tbody tr th:only-of-type {\n",
       "        vertical-align: middle;\n",
       "    }\n",
       "\n",
       "    .dataframe tbody tr th {\n",
       "        vertical-align: top;\n",
       "    }\n",
       "\n",
       "    .dataframe thead th {\n",
       "        text-align: right;\n",
       "    }\n",
       "</style>\n",
       "<table border=\"1\" class=\"dataframe\">\n",
       "  <thead>\n",
       "    <tr style=\"text-align: right;\">\n",
       "      <th></th>\n",
       "      <th>make</th>\n",
       "      <th>engine_fuel_type</th>\n",
       "      <th>engine_hp</th>\n",
       "      <th>engine_cylinders</th>\n",
       "      <th>transmission_type</th>\n",
       "      <th>driven_wheels</th>\n",
       "      <th>number_of_doors</th>\n",
       "      <th>market_category</th>\n",
       "      <th>vehicle_size</th>\n",
       "      <th>vehicle_style</th>\n",
       "      <th>highway_mpg</th>\n",
       "      <th>city_mpg</th>\n",
       "      <th>popularity</th>\n",
       "      <th>engine_hp_na</th>\n",
       "      <th>age</th>\n",
       "    </tr>\n",
       "  </thead>\n",
       "  <tbody>\n",
       "    <tr>\n",
       "      <th>0</th>\n",
       "      <td>0.275862</td>\n",
       "      <td>0.0</td>\n",
       "      <td>0.120507</td>\n",
       "      <td>0.0</td>\n",
       "      <td>0.666667</td>\n",
       "      <td>0.000000</td>\n",
       "      <td>0.0</td>\n",
       "      <td>0.066667</td>\n",
       "      <td>0.0</td>\n",
       "      <td>0.153846</td>\n",
       "      <td>0.456760</td>\n",
       "      <td>0.626706</td>\n",
       "      <td>1.000000</td>\n",
       "      <td>0.0</td>\n",
       "      <td>0.037037</td>\n",
       "    </tr>\n",
       "    <tr>\n",
       "      <th>1</th>\n",
       "      <td>0.862069</td>\n",
       "      <td>0.0</td>\n",
       "      <td>0.292812</td>\n",
       "      <td>0.0</td>\n",
       "      <td>0.666667</td>\n",
       "      <td>0.666667</td>\n",
       "      <td>0.0</td>\n",
       "      <td>0.733333</td>\n",
       "      <td>1.0</td>\n",
       "      <td>0.846154</td>\n",
       "      <td>0.356272</td>\n",
       "      <td>0.607937</td>\n",
       "      <td>0.286826</td>\n",
       "      <td>0.0</td>\n",
       "      <td>0.222222</td>\n",
       "    </tr>\n",
       "    <tr>\n",
       "      <th>2</th>\n",
       "      <td>0.344828</td>\n",
       "      <td>0.4</td>\n",
       "      <td>0.132135</td>\n",
       "      <td>0.0</td>\n",
       "      <td>0.666667</td>\n",
       "      <td>0.000000</td>\n",
       "      <td>0.0</td>\n",
       "      <td>0.066667</td>\n",
       "      <td>1.0</td>\n",
       "      <td>0.538462</td>\n",
       "      <td>0.335536</td>\n",
       "      <td>0.512956</td>\n",
       "      <td>0.178780</td>\n",
       "      <td>0.0</td>\n",
       "      <td>0.555556</td>\n",
       "    </tr>\n",
       "    <tr>\n",
       "      <th>3</th>\n",
       "      <td>0.793103</td>\n",
       "      <td>1.0</td>\n",
       "      <td>0.288584</td>\n",
       "      <td>0.0</td>\n",
       "      <td>0.000000</td>\n",
       "      <td>0.666667</td>\n",
       "      <td>0.0</td>\n",
       "      <td>0.933333</td>\n",
       "      <td>0.5</td>\n",
       "      <td>0.692308</td>\n",
       "      <td>0.393869</td>\n",
       "      <td>0.540310</td>\n",
       "      <td>0.033245</td>\n",
       "      <td>0.0</td>\n",
       "      <td>0.148148</td>\n",
       "    </tr>\n",
       "    <tr>\n",
       "      <th>4</th>\n",
       "      <td>0.379310</td>\n",
       "      <td>0.0</td>\n",
       "      <td>0.153277</td>\n",
       "      <td>0.0</td>\n",
       "      <td>0.000000</td>\n",
       "      <td>0.333333</td>\n",
       "      <td>0.0</td>\n",
       "      <td>0.066667</td>\n",
       "      <td>1.0</td>\n",
       "      <td>0.307692</td>\n",
       "      <td>0.263606</td>\n",
       "      <td>0.448335</td>\n",
       "      <td>0.244562</td>\n",
       "      <td>0.0</td>\n",
       "      <td>0.703704</td>\n",
       "    </tr>\n",
       "  </tbody>\n",
       "</table>\n",
       "</div>"
      ],
      "text/plain": [
       "       make  engine_fuel_type  engine_hp  engine_cylinders  transmission_type  \\\n",
       "0  0.275862               0.0   0.120507               0.0           0.666667   \n",
       "1  0.862069               0.0   0.292812               0.0           0.666667   \n",
       "2  0.344828               0.4   0.132135               0.0           0.666667   \n",
       "3  0.793103               1.0   0.288584               0.0           0.000000   \n",
       "4  0.379310               0.0   0.153277               0.0           0.000000   \n",
       "\n",
       "   driven_wheels  number_of_doors  market_category  vehicle_size  \\\n",
       "0       0.000000              0.0         0.066667           0.0   \n",
       "1       0.666667              0.0         0.733333           1.0   \n",
       "2       0.000000              0.0         0.066667           1.0   \n",
       "3       0.666667              0.0         0.933333           0.5   \n",
       "4       0.333333              0.0         0.066667           1.0   \n",
       "\n",
       "   vehicle_style  highway_mpg  city_mpg  popularity  engine_hp_na       age  \n",
       "0       0.153846     0.456760  0.626706    1.000000           0.0  0.037037  \n",
       "1       0.846154     0.356272  0.607937    0.286826           0.0  0.222222  \n",
       "2       0.538462     0.335536  0.512956    0.178780           0.0  0.555556  \n",
       "3       0.692308     0.393869  0.540310    0.033245           0.0  0.148148  \n",
       "4       0.307692     0.263606  0.448335    0.244562           0.0  0.703704  "
      ]
     },
     "execution_count": 37,
     "metadata": {},
     "output_type": "execute_result"
    }
   ],
   "source": [
    "x_train.head()"
   ]
  },
  {
   "cell_type": "code",
   "execution_count": 38,
   "metadata": {},
   "outputs": [],
   "source": [
    "# let's now save the train and test sets\n",
    "\n",
    "x_train.to_csv('xtrain.csv', index_label=False)\n",
    "x_test.to_csv('xtest.csv', index_label=False)\n",
    "\n",
    "y_train.to_csv('ytrain.csv', index_label=False)\n",
    "y_test.to_csv('ytest.csv', index_label=False)"
   ]
  },
  {
   "cell_type": "code",
   "execution_count": 39,
   "metadata": {},
   "outputs": [
    {
     "data": {
      "text/plain": [
       "['minmax_scalar.joblib']"
      ]
     },
     "execution_count": 39,
     "metadata": {},
     "output_type": "execute_result"
    }
   ],
   "source": [
    "joblib.dump(scalar, 'minmax_scalar.joblib')"
   ]
  },
  {
   "cell_type": "code",
   "execution_count": null,
   "metadata": {},
   "outputs": [],
   "source": []
  }
 ],
 "metadata": {
  "kernelspec": {
   "display_name": "base",
   "language": "python",
   "name": "python3"
  },
  "language_info": {
   "codemirror_mode": {
    "name": "ipython",
    "version": 3
   },
   "file_extension": ".py",
   "mimetype": "text/x-python",
   "name": "python",
   "nbconvert_exporter": "python",
   "pygments_lexer": "ipython3",
   "version": "3.9.12"
  },
  "orig_nbformat": 4,
  "vscode": {
   "interpreter": {
    "hash": "89fd3fe5c74926aecd829cf91c6519be9ed1b8293aef6b3339f7512c2622eea6"
   }
  }
 },
 "nbformat": 4,
 "nbformat_minor": 2
}
